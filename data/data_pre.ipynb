{
 "cells": [
  {
   "cell_type": "code",
   "execution_count": 1,
   "metadata": {},
   "outputs": [],
   "source": [
    "import pandas as pd\n",
    "import csv\n",
    "import numpy as np\n",
    "from sklearn.model_selection import train_test_split\n",
    "from sklearn.ensemble import RandomForestRegressor\n",
    "from sklearn.metrics import r2_score\n",
    "from sklearn import metrics"
   ]
  },
  {
   "cell_type": "code",
   "execution_count": 2,
   "metadata": {},
   "outputs": [],
   "source": [
    "North_east_2 = pd.read_csv(\"North_east_2.csv\")\n",
    "North_east = pd.read_csv(\"North_east.csv\")\n",
    "North_west_2 = pd.read_csv(\"North_west_2.csv\")\n",
    "North_west_1 = pd.read_csv(\"North_west_1.csv\")"
   ]
  },
  {
   "cell_type": "code",
   "execution_count": 3,
   "metadata": {},
   "outputs": [],
   "source": [
    "\n",
    "dfs = [North_east_2, North_east,North_west_2,North_west_1]\n",
    "df=pd.DataFrame()\n",
    "\n",
    "\n",
    "for i in dfs:\n",
    "    df = df.append(i)\n",
    "\n",
    "data_mean=df.groupby('Datetime').mean()\n",
    "data_mean.index = pd.to_datetime(data_mean.index)"
   ]
  },
  {
   "cell_type": "code",
   "execution_count": 4,
   "metadata": {},
   "outputs": [
    {
     "data": {
      "text/plain": [
       "Index(['air_temp_5cm_avg', 'air_temp_5cm_max', 'air_temp_5cm_min',\n",
       "       'air_temp_avg', 'air_temp_max', 'air_temp_min', 'cloud_cover_avg',\n",
       "       'cloud_cover_max', 'cloud_cover_min', 'dew_point_avg', 'dew_point_max',\n",
       "       'dew_point_min', 'ice_acc_period', 'liquid_acc_period',\n",
       "       'long_wave_radiation_avg', 'long_wave_radiation_max',\n",
       "       'long_wave_radiation_min', 'pet_period', 'precip_acc_period',\n",
       "       'precip_acc_period_adjusted', 'precip_acc_period_raw',\n",
       "       'precip_duration', 'relative_humidity_avg', 'relative_humidity_max',\n",
       "       'relative_humidity_min', 'short_wave_radiation_avg',\n",
       "       'short_wave_radiation_max', 'short_wave_radiation_min',\n",
       "       'snow_acc_period', 'sunshine_duration', 'visibility_avg',\n",
       "       'visibility_max', 'visibility_min', 'wind_gust_max',\n",
       "       'wind_speed_2m_avg', 'wind_speed_2m_max', 'wind_speed_2m_min',\n",
       "       'wind_speed_avg', 'wind_speed_max', 'wind_speed_min'],\n",
       "      dtype='object')"
      ]
     },
     "execution_count": 4,
     "metadata": {},
     "output_type": "execute_result"
    }
   ],
   "source": [
    "data_mean.columns"
   ]
  },
  {
   "cell_type": "code",
   "execution_count": 5,
   "metadata": {},
   "outputs": [],
   "source": [
    "price =  pd.read_csv(\"London Wheat Futures Historical Data.csv\")\n",
    "price['Datetime'] = pd.to_datetime(price['Date'])\n",
    "price = price.set_index(['Datetime'])\n",
    "price = price.drop(['Date'], axis=1)\n",
    "price =price.groupby(pd.Grouper(freq='10D'))['Price'].mean()"
   ]
  },
  {
   "cell_type": "code",
   "execution_count": 6,
   "metadata": {},
   "outputs": [],
   "source": [
    "\n",
    "def rf_r2score(var,price):\n",
    "    features = pd.get_dummies(var)\n",
    "    labels = price\n",
    "    features = np.array(features)\n",
    "    labels = np.array(labels)\n",
    "\n",
    "    X_train, X_test, y_train, y_test = train_test_split(features, labels, test_size=0.3, random_state=100)\n",
    "\n",
    "    rf_exp = RandomForestRegressor(n_estimators= 200, random_state=1000)\n",
    "    rf_exp.fit(X_train, y_train)\n",
    "\n",
    "    y_pred = rf_exp.predict(X_test)\n",
    "    print(\"R2: \",r2_score(y_test,y_pred))\n",
    "    \n",
    "    errors = abs(y_pred - y_test)\n",
    "    mape = 100 * (errors / y_test)\n",
    "    accuracy = 100 - np.mean(mape)\n",
    "    print(\"mape accuracy: \",accuracy)\n",
    "    print('Root Mean Squared Error:', np.sqrt(metrics.mean_squared_error(y_test, y_pred)))"
   ]
  },
  {
   "cell_type": "code",
   "execution_count": 7,
   "metadata": {},
   "outputs": [],
   "source": [
    "var=pd.DataFrame()\n",
    "data_copy = data_mean\n",
    "\n",
    "data_copy['frost_days'] = data_mean[data_mean.air_temp_min<0 ]['air_temp_min']\n",
    "data_copy['ice_days'] = data_mean[data_mean.air_temp_max<0 ]['air_temp_max']\n",
    "data_copy['tem_10_25'] = data_mean[(10<data_mean.air_temp_avg)&(data_mean.air_temp_avg<25) ]['air_temp_avg']\n",
    "data_copy['wet_days'] = data_mean[data_mean.precip_acc_period>1 ]['precip_acc_period']\n",
    "data_copy['very_heavy_precip_days'] = data_mean[data_mean.precip_acc_period>20 ]['precip_acc_period']\n",
    "data_copy['heavy_precip_days'] = data_mean[data_mean.precip_acc_period>10 ]['precip_acc_period']\n",
    "data_copy['Summer_days'] = data_mean[data_mean.air_temp_max>25 ]['air_temp_max']\n",
    "data_copy['precip_sum'] = data_mean['precip_acc_period']\n",
    "\n",
    "\n",
    "data = data_copy.groupby(pd.Grouper(freq='10D')).agg({'frost_days':'count', \n",
    "                                               'ice_days':'count',\n",
    "                                               'tem_10_25':'count',\n",
    "                                               'very_heavy_precip_days':'count',\n",
    "                                               'heavy_precip_days':'count',\n",
    "                                               'Summer_days':'count',\n",
    "                                               'wet_days':'count',\n",
    "                                             'precip_sum':'sum', \n",
    "                                              'air_temp_max':['max','min'],'air_temp_min':['max','min'],'air_temp_avg':'mean'\n",
    "                         })\n",
    "\n"
   ]
  },
  {
   "cell_type": "code",
   "execution_count": 8,
   "metadata": {},
   "outputs": [
    {
     "data": {
      "text/plain": [
       "frost_days              count    0.081265\n",
       "ice_days                count    0.122242\n",
       "tem_10_25               count   -0.086261\n",
       "very_heavy_precip_days  count   -0.128711\n",
       "heavy_precip_days       count   -0.014160\n",
       "Summer_days             count         NaN\n",
       "wet_days                count   -0.121729\n",
       "precip_sum              sum     -0.090219\n",
       "air_temp_max            max     -0.015702\n",
       "                        min     -0.151064\n",
       "air_temp_min            max     -0.003055\n",
       "                        min     -0.063806\n",
       "air_temp_avg            mean    -0.098737\n",
       "dtype: float64"
      ]
     },
     "execution_count": 8,
     "metadata": {},
     "output_type": "execute_result"
    }
   ],
   "source": [
    "winter =data.loc[(data.index.month.isin([11, 12, 1, 2, 3]))]\n",
    "winter_price = price.loc[(price.index.month.isin([11, 12, 1, 2, 3]))]\n",
    "winter.corrwith(winter_price)"
   ]
  },
  {
   "cell_type": "code",
   "execution_count": 9,
   "metadata": {},
   "outputs": [
    {
     "data": {
      "text/plain": [
       "frost_days              count    0.143518\n",
       "ice_days                count         NaN\n",
       "tem_10_25               count    0.126257\n",
       "very_heavy_precip_days  count   -0.006345\n",
       "heavy_precip_days       count    0.076416\n",
       "Summer_days             count   -0.057291\n",
       "wet_days                count   -0.028974\n",
       "precip_sum              sum      0.009096\n",
       "air_temp_max            max      0.031794\n",
       "                        min      0.155579\n",
       "air_temp_min            max      0.101512\n",
       "                        min     -0.001411\n",
       "air_temp_avg            mean     0.077643\n",
       "dtype: float64"
      ]
     },
     "execution_count": 9,
     "metadata": {},
     "output_type": "execute_result"
    }
   ],
   "source": [
    "spring =data.loc[(data.index.month.isin([4,5]))]\n",
    "spring_price = price.loc[(price.index.month.isin([4,5]))]\n",
    "spring.corrwith(spring_price)"
   ]
  },
  {
   "cell_type": "code",
   "execution_count": 10,
   "metadata": {},
   "outputs": [
    {
     "data": {
      "text/plain": [
       "frost_days              count         NaN\n",
       "ice_days                count         NaN\n",
       "tem_10_25               count    0.192681\n",
       "very_heavy_precip_days  count    0.002853\n",
       "heavy_precip_days       count    0.126702\n",
       "Summer_days             count    0.110207\n",
       "wet_days                count    0.202822\n",
       "precip_sum              sum      0.213097\n",
       "air_temp_max            max     -0.001895\n",
       "                        min     -0.033332\n",
       "air_temp_min            max     -0.113711\n",
       "                        min     -0.059166\n",
       "air_temp_avg            mean    -0.054537\n",
       "dtype: float64"
      ]
     },
     "execution_count": 10,
     "metadata": {},
     "output_type": "execute_result"
    }
   ],
   "source": [
    "summer =data.loc[(data.index.month.isin([6,7]))]\n",
    "summer_price = price.loc[(price.index.month.isin([6,7]))]\n",
    "summer.corrwith(summer_price)"
   ]
  },
  {
   "cell_type": "code",
   "execution_count": 11,
   "metadata": {},
   "outputs": [
    {
     "name": "stdout",
     "output_type": "stream",
     "text": [
      "R2:  0.11843938443140047\n",
      "mape accuracy:  nan\n",
      "Root Mean Squared Error: 4.006300369274146\n"
     ]
    },
    {
     "name": "stderr",
     "output_type": "stream",
     "text": [
      "<ipython-input-6-e19da6888bf4>:16: RuntimeWarning: divide by zero encountered in true_divide\n",
      "  mape = 100 * (errors / y_test)\n",
      "<ipython-input-6-e19da6888bf4>:16: RuntimeWarning: invalid value encountered in true_divide\n",
      "  mape = 100 * (errors / y_test)\n"
     ]
    }
   ],
   "source": [
    " rf_r2score(summer_price,summer)"
   ]
  },
  {
   "cell_type": "code",
   "execution_count": 12,
   "metadata": {},
   "outputs": [
    {
     "name": "stdout",
     "output_type": "stream",
     "text": [
      "R2:  0.06488595771511929\n",
      "mape accuracy:  nan\n",
      "Root Mean Squared Error: 4.443377646765962\n"
     ]
    },
    {
     "name": "stderr",
     "output_type": "stream",
     "text": [
      "<ipython-input-6-e19da6888bf4>:16: RuntimeWarning: divide by zero encountered in true_divide\n",
      "  mape = 100 * (errors / y_test)\n",
      "<ipython-input-6-e19da6888bf4>:16: RuntimeWarning: invalid value encountered in true_divide\n",
      "  mape = 100 * (errors / y_test)\n"
     ]
    }
   ],
   "source": [
    "rf_r2score(spring_price,spring)"
   ]
  },
  {
   "cell_type": "code",
   "execution_count": 13,
   "metadata": {},
   "outputs": [
    {
     "name": "stdout",
     "output_type": "stream",
     "text": [
      "R2:  0.046077006560352136\n",
      "mape accuracy:  nan\n",
      "Root Mean Squared Error: 4.399460236392398\n"
     ]
    },
    {
     "name": "stderr",
     "output_type": "stream",
     "text": [
      "<ipython-input-6-e19da6888bf4>:16: RuntimeWarning: divide by zero encountered in true_divide\n",
      "  mape = 100 * (errors / y_test)\n",
      "<ipython-input-6-e19da6888bf4>:16: RuntimeWarning: invalid value encountered in true_divide\n",
      "  mape = 100 * (errors / y_test)\n"
     ]
    }
   ],
   "source": [
    "rf_r2score(winter_price,winter)"
   ]
  },
  {
   "cell_type": "code",
   "execution_count": null,
   "metadata": {},
   "outputs": [],
   "source": []
  }
 ],
 "metadata": {
  "kernelspec": {
   "display_name": "Python 3",
   "language": "python",
   "name": "python3"
  },
  "language_info": {
   "codemirror_mode": {
    "name": "ipython",
    "version": 3
   },
   "file_extension": ".py",
   "mimetype": "text/x-python",
   "name": "python",
   "nbconvert_exporter": "python",
   "pygments_lexer": "ipython3",
   "version": "3.8.5"
  }
 },
 "nbformat": 4,
 "nbformat_minor": 4
}
